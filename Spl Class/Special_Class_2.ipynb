{
 "cells": [
  {
   "cell_type": "markdown",
   "id": "1335e00b",
   "metadata": {},
   "source": [
    "# Translator"
   ]
  },
  {
   "cell_type": "markdown",
   "id": "08827e6d",
   "metadata": {},
   "source": [
    "# Compiler"
   ]
  },
  {
   "cell_type": "markdown",
   "id": "6cc9abdb",
   "metadata": {},
   "source": [
    "- It reads and converts the whole source code into machine code at once"
   ]
  },
  {
   "cell_type": "markdown",
   "id": "c2f54fe1",
   "metadata": {},
   "source": [
    "# Interpreter"
   ]
  },
  {
   "cell_type": "markdown",
   "id": "08bd442b",
   "metadata": {},
   "source": [
    "- It reads and converts the source code into machine code line by line."
   ]
  },
  {
   "cell_type": "markdown",
   "id": "6a6db707",
   "metadata": {},
   "source": [
    "# Source Code"
   ]
  },
  {
   "cell_type": "markdown",
   "id": "8c55c467",
   "metadata": {},
   "source": [
    "- The code that we write as a developer is known as source code"
   ]
  },
  {
   "cell_type": "code",
   "execution_count": 1,
   "id": "34791fd9",
   "metadata": {},
   "outputs": [
    {
     "name": "stdout",
     "output_type": "stream",
     "text": [
      "30\n"
     ]
    }
   ],
   "source": [
    "a=10\n",
    "b=20\n",
    "c=a+b\n",
    "print(c)"
   ]
  },
  {
   "cell_type": "markdown",
   "id": "dfedd742",
   "metadata": {},
   "source": [
    "# compiled languages"
   ]
  },
  {
   "cell_type": "markdown",
   "id": "23d9c19d",
   "metadata": {},
   "source": [
    "- The languages that use compiler as the translator are known as compiled languages.\n",
    "- C, C++, .NET, Javascript etc."
   ]
  },
  {
   "cell_type": "markdown",
   "id": "53aaed55",
   "metadata": {},
   "source": [
    "# Interpreted languages"
   ]
  },
  {
   "cell_type": "markdown",
   "id": "5b2c0609",
   "metadata": {},
   "source": [
    "- The languages that use interpreter as the translator are known as interpreted languages.\n",
    "- Python, PHP, R, Ruby etc."
   ]
  },
  {
   "cell_type": "markdown",
   "id": "af457d95",
   "metadata": {},
   "source": [
    "# Why Python"
   ]
  },
  {
   "cell_type": "markdown",
   "id": "5c906b5f",
   "metadata": {},
   "source": [
    "- It is easy to learn.\n",
    "- It is a general purpose language\n",
    "- Data Analysis / Data Science\n",
    "- Game development\n",
    "- App development\n",
    "- Web development\n",
    "- It is open source\n",
    "- It has a strong community\n",
    "- It has number of libraries or packages"
   ]
  },
  {
   "cell_type": "code",
   "execution_count": 2,
   "id": "6950d030",
   "metadata": {},
   "outputs": [
    {
     "name": "stdout",
     "output_type": "stream",
     "text": [
      "Hello\n"
     ]
    }
   ],
   "source": [
    "print('Hello')"
   ]
  },
  {
   "cell_type": "code",
   "execution_count": 3,
   "id": "9b27d579",
   "metadata": {},
   "outputs": [
    {
     "name": "stdout",
     "output_type": "stream",
     "text": [
      "Enter a number10\n",
      "Enter a number again2\n",
      "12\n"
     ]
    }
   ],
   "source": [
    "# Addition of two numbers in Python\n",
    "\n",
    "a=int(input(\"Enter a number\"))\n",
    "b=int(input(\"Enter a number again\"))\n",
    "\n",
    "c=a+b\n",
    "print(c)"
   ]
  },
  {
   "cell_type": "code",
   "execution_count": 4,
   "id": "88a4fb9a",
   "metadata": {},
   "outputs": [],
   "source": [
    "# Addition of two numbers in C\n",
    "\n",
    "# # include <stdio.h>\n",
    "# # include <conio.h>\n",
    "\n",
    "# void main()\n",
    "# {\n",
    "# int a\n",
    "# int b\n",
    "# int c\n",
    "    \n",
    "# print('Enter a number')\n",
    "# scanf('%d',&a)\n",
    "    \n",
    "# print('Enter a number again')\n",
    "# scanf('%d',&b)\n",
    "\n",
    "# c=a+b\n",
    "    \n",
    "# print('%d',&a)\n",
    "# getch()\n",
    "# }"
   ]
  },
  {
   "cell_type": "markdown",
   "id": "eaa0ff5e",
   "metadata": {},
   "source": [
    "# How a Python progrm runs"
   ]
  },
  {
   "cell_type": "markdown",
   "id": "e1a9bb12",
   "metadata": {},
   "source": [
    "# Source Code"
   ]
  },
  {
   "cell_type": "markdown",
   "id": "11f2188c",
   "metadata": {},
   "source": [
    "- The code that is written by the programmer o developer"
   ]
  },
  {
   "cell_type": "markdown",
   "id": "d28eb3ae",
   "metadata": {},
   "source": [
    "# Intermediate Code"
   ]
  },
  {
   "cell_type": "markdown",
   "id": "de014991",
   "metadata": {},
   "source": [
    "- Compiler reads the whole source code and converts into intermediate code at once.\n",
    "- The intermediate code in Python is known as Byte code\n",
    "- If compiler catches any error then it does not convert the source into Byte code.\n",
    "- In this case we don't get any output."
   ]
  },
  {
   "cell_type": "markdown",
   "id": "c3b0777b",
   "metadata": {},
   "source": [
    "# Machine Code"
   ]
  },
  {
   "cell_type": "markdown",
   "id": "a289949d",
   "metadata": {},
   "source": [
    "- The interpreter reads the Byte code line by line and converts into machine code.\n",
    "- As soon as it catches any errors it stops the execution.\n",
    "- In this case the code is partially executed. It means until the error occurs the code is executed."
   ]
  },
  {
   "cell_type": "markdown",
   "id": "8a3bd028",
   "metadata": {},
   "source": [
    "# Types of errors"
   ]
  },
  {
   "cell_type": "markdown",
   "id": "0daaeb2e",
   "metadata": {},
   "source": [
    "- 1- Compile time error\n",
    "- 2- Run time error"
   ]
  },
  {
   "cell_type": "markdown",
   "id": "ae8bd458",
   "metadata": {},
   "source": [
    "# 1- Compile time error"
   ]
  },
  {
   "cell_type": "markdown",
   "id": "7534f6f4",
   "metadata": {},
   "source": [
    "- The errors that are caught by the compiler are known as compile time error"
   ]
  },
  {
   "cell_type": "code",
   "execution_count": 5,
   "id": "18f65e03",
   "metadata": {},
   "outputs": [],
   "source": [
    "# 1- Syntax error\n",
    "# 2- Indentation error"
   ]
  },
  {
   "cell_type": "markdown",
   "id": "0ad5a75e",
   "metadata": {},
   "source": [
    "# 2- Run time error"
   ]
  },
  {
   "cell_type": "markdown",
   "id": "178415f7",
   "metadata": {},
   "source": [
    "- The errors that are caught by the interpreter are known as run time errors"
   ]
  },
  {
   "cell_type": "code",
   "execution_count": 7,
   "id": "7474e372",
   "metadata": {},
   "outputs": [],
   "source": [
    "# Name error\n",
    "# Type error\n",
    "# Attribute error\n",
    "# Division by zero error\n",
    "# Index error\n",
    "# Key error\n",
    "# value error"
   ]
  },
  {
   "cell_type": "code",
   "execution_count": 8,
   "id": "a53be5c7",
   "metadata": {},
   "outputs": [],
   "source": [
    "# -----------Output\n",
    "# -----------Output\n",
    "# -----------Output\n",
    "# -----------Output\n",
    "# -----------Output\n",
    "# -----------Output\n",
    "# -----------Output\n",
    "# Key error- stop\n",
    "# -------No output\n",
    "# -------No output\n",
    "# -------No output\n",
    "# -------No output"
   ]
  },
  {
   "cell_type": "code",
   "execution_count": 11,
   "id": "eff91094",
   "metadata": {},
   "outputs": [
    {
     "ename": "SyntaxError",
     "evalue": "unexpected EOF while parsing (2276653015.py, line 6)",
     "output_type": "error",
     "traceback": [
      "\u001b[1;36m  File \u001b[1;32m\"C:\\Users\\ashis\\AppData\\Local\\Temp\\ipykernel_27480\\2276653015.py\"\u001b[1;36m, line \u001b[1;32m6\u001b[0m\n\u001b[1;33m    print(b\u001b[0m\n\u001b[1;37m           ^\u001b[0m\n\u001b[1;31mSyntaxError\u001b[0m\u001b[1;31m:\u001b[0m unexpected EOF while parsing\n"
     ]
    }
   ],
   "source": [
    "a=10\n",
    "b=20\n",
    "c=a+b\n",
    "print(c)\n",
    "d=b-a\n",
    "print(b"
   ]
  },
  {
   "cell_type": "code",
   "execution_count": 19,
   "id": "cbff3cc3",
   "metadata": {},
   "outputs": [
    {
     "name": "stdout",
     "output_type": "stream",
     "text": [
      "30\n",
      "20\n",
      "Hello world\n"
     ]
    },
    {
     "ename": "NameError",
     "evalue": "name 'f' is not defined",
     "output_type": "error",
     "traceback": [
      "\u001b[1;31m---------------------------------------------------------------------------\u001b[0m",
      "\u001b[1;31mNameError\u001b[0m                                 Traceback (most recent call last)",
      "\u001b[1;32m~\\AppData\\Local\\Temp\\ipykernel_27480\\2342057530.py\u001b[0m in \u001b[0;36m<module>\u001b[1;34m\u001b[0m\n\u001b[0;32m      7\u001b[0m \u001b[0me\u001b[0m\u001b[1;33m=\u001b[0m\u001b[0ma\u001b[0m\u001b[1;33m*\u001b[0m\u001b[0mb\u001b[0m\u001b[1;33m\u001b[0m\u001b[1;33m\u001b[0m\u001b[0m\n\u001b[0;32m      8\u001b[0m \u001b[0mprint\u001b[0m\u001b[1;33m(\u001b[0m\u001b[1;34m'Hello world'\u001b[0m\u001b[1;33m)\u001b[0m\u001b[1;33m\u001b[0m\u001b[1;33m\u001b[0m\u001b[0m\n\u001b[1;32m----> 9\u001b[1;33m \u001b[0mprint\u001b[0m\u001b[1;33m(\u001b[0m\u001b[0mf\u001b[0m\u001b[1;33m)\u001b[0m \u001b[1;31m# Name error\u001b[0m\u001b[1;33m\u001b[0m\u001b[1;33m\u001b[0m\u001b[0m\n\u001b[0m\u001b[0;32m     10\u001b[0m \u001b[0mprint\u001b[0m\u001b[1;33m(\u001b[0m\u001b[0me\u001b[0m\u001b[1;33m)\u001b[0m\u001b[1;33m\u001b[0m\u001b[1;33m\u001b[0m\u001b[0m\n\u001b[0;32m     11\u001b[0m \u001b[0mprint\u001b[0m\u001b[1;33m(\u001b[0m\u001b[1;34m'Hello'\u001b[0m\u001b[1;33m)\u001b[0m\u001b[1;33m\u001b[0m\u001b[1;33m\u001b[0m\u001b[0m\n",
      "\u001b[1;31mNameError\u001b[0m: name 'f' is not defined"
     ]
    }
   ],
   "source": [
    "a=10\n",
    "b=20\n",
    "c=a+b\n",
    "print(c)\n",
    "d=b-a\n",
    "print(b)\n",
    "e=a*b\n",
    "print('Hello world')\n",
    "print(f) # Name error\n",
    "print(e)\n",
    "print('Hello')\n",
    "print('Thank you')"
   ]
  },
  {
   "cell_type": "markdown",
   "id": "3fc73d95",
   "metadata": {},
   "source": [
    "# Data Types"
   ]
  },
  {
   "cell_type": "markdown",
   "id": "f39b4aa2",
   "metadata": {},
   "source": [
    "- A datatype is a type identifier.\n",
    "- It identifies the type of the data"
   ]
  },
  {
   "cell_type": "markdown",
   "id": "5b45f2a4",
   "metadata": {},
   "source": [
    "- 1- Basic datatypes\n",
    "- 2- Derived datatypes"
   ]
  },
  {
   "cell_type": "markdown",
   "id": "44febb0a",
   "metadata": {},
   "source": [
    "# 1- Basic Datatypes"
   ]
  },
  {
   "cell_type": "markdown",
   "id": "cf2ef232",
   "metadata": {},
   "source": [
    "# int"
   ]
  },
  {
   "cell_type": "code",
   "execution_count": 21,
   "id": "3e6523ad",
   "metadata": {},
   "outputs": [],
   "source": [
    "# All the numbers whether -ive, 0 or +ive without a decimal point are classified as integers"
   ]
  },
  {
   "cell_type": "code",
   "execution_count": 22,
   "id": "7d918465",
   "metadata": {},
   "outputs": [],
   "source": [
    "# type()- It is used to check the datatype of a value that a varibale contains"
   ]
  },
  {
   "cell_type": "code",
   "execution_count": 28,
   "id": "be6964fe",
   "metadata": {},
   "outputs": [
    {
     "name": "stdout",
     "output_type": "stream",
     "text": [
      "10 <class 'int'>\n",
      "0 <class 'int'>\n",
      "-5 <class 'int'>\n"
     ]
    }
   ],
   "source": [
    "a=10\n",
    "print(a,type(a))\n",
    "\n",
    "a=0\n",
    "print(a,type(a))\n",
    "\n",
    "a=-5\n",
    "print(a,type(a))"
   ]
  },
  {
   "cell_type": "markdown",
   "id": "f19f5891",
   "metadata": {},
   "source": [
    "# float"
   ]
  },
  {
   "cell_type": "code",
   "execution_count": 29,
   "id": "76f202bf",
   "metadata": {},
   "outputs": [],
   "source": [
    "# float- All the numbers whether -ive, 0 or +ive with a decimal point are known as float"
   ]
  },
  {
   "cell_type": "code",
   "execution_count": 35,
   "id": "ea9a1b00",
   "metadata": {},
   "outputs": [
    {
     "name": "stdout",
     "output_type": "stream",
     "text": [
      "2.5 <class 'float'>\n",
      "0.0 <class 'float'>\n",
      "-6.2 <class 'float'>\n"
     ]
    }
   ],
   "source": [
    "a=2.5\n",
    "print(a,type(a))\n",
    "\n",
    "a=0.0\n",
    "print(a,type(a))\n",
    "\n",
    "a=-6.2\n",
    "print(a,type(a))"
   ]
  },
  {
   "cell_type": "markdown",
   "id": "3079b58d",
   "metadata": {},
   "source": [
    "# string (str)"
   ]
  },
  {
   "cell_type": "code",
   "execution_count": 36,
   "id": "483bc37e",
   "metadata": {},
   "outputs": [],
   "source": [
    "# Anything kept inside the ' ', \" \",''' ''', \"\"\" \"\"\" is a string value."
   ]
  },
  {
   "cell_type": "code",
   "execution_count": 44,
   "id": "e94a48dd",
   "metadata": {},
   "outputs": [
    {
     "name": "stdout",
     "output_type": "stream",
     "text": [
      "10 <class 'str'>\n",
      "Python <class 'str'>\n",
      "Python <class 'str'>\n"
     ]
    }
   ],
   "source": [
    "a='10'\n",
    "print(a,type(a))\n",
    "\n",
    "a='Python'\n",
    "print(a,type(a))\n",
    "\n",
    "a=\"Python\"\n",
    "print(a,type(a))"
   ]
  },
  {
   "cell_type": "code",
   "execution_count": 47,
   "id": "768fa093",
   "metadata": {},
   "outputs": [
    {
     "name": "stdout",
     "output_type": "stream",
     "text": [
      "Python's class <class 'str'>\n"
     ]
    }
   ],
   "source": [
    "# Output- Python's class\n",
    "\n",
    "a=\"Python's class\"\n",
    "print(a,type(a))"
   ]
  },
  {
   "cell_type": "code",
   "execution_count": 50,
   "id": "b1d55c1b",
   "metadata": {},
   "outputs": [
    {
     "name": "stdout",
     "output_type": "stream",
     "text": [
      "This is \"Python\" class <class 'str'>\n"
     ]
    }
   ],
   "source": [
    "# Output- This is \"Python\" class\n",
    "\n",
    "a='This is \"Python\" class'\n",
    "print(a,type(a))"
   ]
  },
  {
   "cell_type": "code",
   "execution_count": 53,
   "id": "9f9d5d4c",
   "metadata": {},
   "outputs": [
    {
     "name": "stdout",
     "output_type": "stream",
     "text": [
      "Hello everyone.\n",
      "This is Python class.\n",
      "We are going to be data scientists.\n",
      "We are from Learnbay. <class 'str'>\n"
     ]
    }
   ],
   "source": [
    "a='''Hello everyone.\n",
    "This is Python class.\n",
    "We are going to be data scientists.\n",
    "We are from Learnbay.'''\n",
    "\n",
    "print(a,type(a))"
   ]
  },
  {
   "cell_type": "code",
   "execution_count": 54,
   "id": "8be16b61",
   "metadata": {},
   "outputs": [
    {
     "name": "stdout",
     "output_type": "stream",
     "text": [
      "Hello everyone.\n",
      "This is Python class.\n",
      "We are going to be data scientists.\n",
      "We are from Learnbay. <class 'str'>\n"
     ]
    }
   ],
   "source": [
    "a=\"\"\"Hello everyone.\n",
    "This is Python class.\n",
    "We are going to be data scientists.\n",
    "We are from Learnbay.\"\"\"\n",
    "\n",
    "print(a,type(a))"
   ]
  },
  {
   "cell_type": "code",
   "execution_count": 57,
   "id": "04cdaf4e",
   "metadata": {},
   "outputs": [
    {
     "name": "stdout",
     "output_type": "stream",
     "text": [
      "Hello everyone.\n",
      "This is Python class.\n",
      "We are going to be data scientists.\n",
      "We are from Learnbays' <class 'str'>\n"
     ]
    }
   ],
   "source": [
    "a=\"\"\"Hello everyone.\n",
    "This is Python class.\n",
    "We are going to be data scientists.\n",
    "We are from Learnbays'\"\"\"\n",
    "\n",
    "print(a,type(a))"
   ]
  },
  {
   "cell_type": "code",
   "execution_count": 60,
   "id": "908987ea",
   "metadata": {},
   "outputs": [
    {
     "name": "stdout",
     "output_type": "stream",
     "text": [
      "Hello everyone.\n",
      "This is Python class.\n",
      "We are going to be data scientists.\n",
      "We are from \"Learnbay\" <class 'str'>\n"
     ]
    }
   ],
   "source": [
    "a='''Hello everyone.\n",
    "This is Python class.\n",
    "We are going to be data scientists.\n",
    "We are from \"Learnbay\"'''\n",
    "print(a,type(a))"
   ]
  },
  {
   "cell_type": "markdown",
   "id": "30c60f76",
   "metadata": {},
   "source": [
    "# Complex"
   ]
  },
  {
   "cell_type": "code",
   "execution_count": 61,
   "id": "50c28959",
   "metadata": {},
   "outputs": [],
   "source": [
    "# Any number in the form of a+bj is a complex value.\n",
    "# Where a is known as the real number and b is known as the imaginary number."
   ]
  },
  {
   "cell_type": "code",
   "execution_count": 65,
   "id": "e6ea5a9e",
   "metadata": {},
   "outputs": [
    {
     "name": "stdout",
     "output_type": "stream",
     "text": [
      "(10+5j) <class 'complex'>\n",
      "(1.5+0.5j) <class 'complex'>\n",
      "(1+0j) <class 'complex'>\n"
     ]
    }
   ],
   "source": [
    "a=10+5j\n",
    "print(a,type(a))\n",
    "\n",
    "a=1.5+0.5j\n",
    "print(a,type(a))\n",
    "\n",
    "a=1+0.0j\n",
    "print(a,type(a))"
   ]
  },
  {
   "cell_type": "code",
   "execution_count": 68,
   "id": "3861d80f",
   "metadata": {},
   "outputs": [
    {
     "name": "stdout",
     "output_type": "stream",
     "text": [
      "(10+20j) <class 'complex'>\n",
      "10.0\n",
      "20.0\n"
     ]
    }
   ],
   "source": [
    "a=10+20j\n",
    "print(a,type(a))\n",
    "\n",
    "print(a.real)\n",
    "print(a.imag)"
   ]
  },
  {
   "cell_type": "markdown",
   "id": "66b56685",
   "metadata": {},
   "source": [
    "# Boolean (bool)"
   ]
  },
  {
   "cell_type": "markdown",
   "id": "4cc67e8b",
   "metadata": {},
   "source": [
    "- True and False are the boolean values"
   ]
  },
  {
   "cell_type": "code",
   "execution_count": 97,
   "id": "f8010627",
   "metadata": {},
   "outputs": [
    {
     "name": "stdout",
     "output_type": "stream",
     "text": [
      "True <class 'bool'>\n",
      "False <class 'bool'>\n"
     ]
    }
   ],
   "source": [
    "a=True\n",
    "print(a,type(a))\n",
    "\n",
    "a=False\n",
    "print(a,type(a))"
   ]
  },
  {
   "cell_type": "markdown",
   "id": "9ceeb252",
   "metadata": {},
   "source": [
    "# NoneType"
   ]
  },
  {
   "cell_type": "code",
   "execution_count": 96,
   "id": "a80d111f",
   "metadata": {},
   "outputs": [],
   "source": [
    "# None is the NoneType\n",
    "# It represents the missing value"
   ]
  },
  {
   "cell_type": "code",
   "execution_count": 73,
   "id": "e4f2b57e",
   "metadata": {},
   "outputs": [
    {
     "name": "stdout",
     "output_type": "stream",
     "text": [
      "None <class 'NoneType'>\n"
     ]
    }
   ],
   "source": [
    "a=None\n",
    "print(a,type(a))"
   ]
  },
  {
   "cell_type": "markdown",
   "id": "2faa4e8a",
   "metadata": {},
   "source": [
    "# 2- Derived Datatypes"
   ]
  },
  {
   "cell_type": "markdown",
   "id": "bf9846e2",
   "metadata": {},
   "source": [
    "- Derived datatypes are the data structures that are generally used to store multiple values."
   ]
  },
  {
   "cell_type": "markdown",
   "id": "9b1bba7f",
   "metadata": {},
   "source": [
    "# List"
   ]
  },
  {
   "cell_type": "code",
   "execution_count": 79,
   "id": "1079a272",
   "metadata": {},
   "outputs": [],
   "source": [
    "# Anything kept inside the [] is a list.\n",
    "# A list is a container type that can contain multiple values.\n",
    "# The values in a list are seprated by a comma.\n",
    "# A list can contain heterogeneous elements."
   ]
  },
  {
   "cell_type": "code",
   "execution_count": 104,
   "id": "dc2a042b",
   "metadata": {},
   "outputs": [
    {
     "name": "stdout",
     "output_type": "stream",
     "text": [
      "[True, 10, 'Python', 5.5, (10+20j), None] <class 'list'>\n"
     ]
    }
   ],
   "source": [
    "lst_1=[1,2,3,4,5]\n",
    "print(lst,type(lst))"
   ]
  },
  {
   "cell_type": "code",
   "execution_count": 116,
   "id": "7c3ddd1d",
   "metadata": {},
   "outputs": [
    {
     "name": "stdout",
     "output_type": "stream",
     "text": [
      "[True, 10, 'Python', 5.5, (10+20j), None] <class 'list'>\n"
     ]
    }
   ],
   "source": [
    "lst_2=[True, 10, 'Python', 5.5, 10+20j, None]\n",
    "print(lst_2,type(lst_2))"
   ]
  },
  {
   "cell_type": "code",
   "execution_count": 117,
   "id": "73d58f7f",
   "metadata": {},
   "outputs": [
    {
     "name": "stdout",
     "output_type": "stream",
     "text": [
      "(10+20j)\n",
      "5\n"
     ]
    }
   ],
   "source": [
    "print(lst_2[4])\n",
    "print(lst_1[4])"
   ]
  },
  {
   "cell_type": "markdown",
   "id": "f6956981",
   "metadata": {},
   "source": [
    "# Tuple"
   ]
  },
  {
   "cell_type": "code",
   "execution_count": 108,
   "id": "59540b4c",
   "metadata": {},
   "outputs": [],
   "source": [
    "# Anything kept inside the () is known as a tuple.\n",
    "# A tuple is a container type that can contain multiple elements.\n",
    "# All the elements in a tuple are seperated by a comma.\n",
    "# A tuple can contain heterogenous elements."
   ]
  },
  {
   "cell_type": "code",
   "execution_count": 110,
   "id": "dc3d7b9c",
   "metadata": {},
   "outputs": [
    {
     "name": "stdout",
     "output_type": "stream",
     "text": [
      "(1, 2, 3, 4, 5) <class 'tuple'>\n"
     ]
    }
   ],
   "source": [
    "t=(1,2,3,4,5)\n",
    "print(t,type(t))"
   ]
  },
  {
   "cell_type": "code",
   "execution_count": 112,
   "id": "db51bea4",
   "metadata": {},
   "outputs": [
    {
     "name": "stdout",
     "output_type": "stream",
     "text": [
      "(True, False, 50, 'Python', [1, 2, 3], (10+20j), 2.2) <class 'tuple'>\n"
     ]
    }
   ],
   "source": [
    "t=(True, False, 50, 'Python', [1,2,3], 10+20j, 2.2)\n",
    "print(t,type(t))"
   ]
  },
  {
   "cell_type": "code",
   "execution_count": 114,
   "id": "570b3557",
   "metadata": {},
   "outputs": [
    {
     "name": "stdout",
     "output_type": "stream",
     "text": [
      "Python\n"
     ]
    }
   ],
   "source": [
    "print(t[3])"
   ]
  },
  {
   "cell_type": "markdown",
   "id": "8af902ab",
   "metadata": {},
   "source": [
    "# List vs Tuple"
   ]
  },
  {
   "cell_type": "markdown",
   "id": "1ff923ce",
   "metadata": {},
   "source": [
    "- List is mutable it means we can modify the values after assignment.\n",
    "- Tuple is immutable it means we can not modify the values after assignment."
   ]
  },
  {
   "cell_type": "code",
   "execution_count": 118,
   "id": "4ef04661",
   "metadata": {},
   "outputs": [
    {
     "name": "stdout",
     "output_type": "stream",
     "text": [
      "[True, 10, 'Python', 5.5, (10+20j), None] <class 'list'>\n"
     ]
    }
   ],
   "source": [
    "lst=[True, 10, 'Python', 5.5, 10+20j, None]\n",
    "print(lst,type(lst))"
   ]
  },
  {
   "cell_type": "code",
   "execution_count": 120,
   "id": "34df3123",
   "metadata": {},
   "outputs": [],
   "source": [
    "lst[0]=5000"
   ]
  },
  {
   "cell_type": "code",
   "execution_count": 121,
   "id": "315e7fc7",
   "metadata": {},
   "outputs": [
    {
     "name": "stdout",
     "output_type": "stream",
     "text": [
      "[5000, 10, 'Python', 5.5, (10+20j), None]\n"
     ]
    }
   ],
   "source": [
    "print(lst)"
   ]
  },
  {
   "cell_type": "code",
   "execution_count": 124,
   "id": "35914a74",
   "metadata": {},
   "outputs": [
    {
     "name": "stdout",
     "output_type": "stream",
     "text": [
      "None\n"
     ]
    }
   ],
   "source": [
    "print(lst[5])\n",
    "lst[5]='Learnbay'"
   ]
  },
  {
   "cell_type": "code",
   "execution_count": 125,
   "id": "dbd1b46e",
   "metadata": {},
   "outputs": [
    {
     "name": "stdout",
     "output_type": "stream",
     "text": [
      "[5000, 10, 'Python', 5.5, (10+20j), 'Learnbay']\n"
     ]
    }
   ],
   "source": [
    "print(lst)"
   ]
  },
  {
   "cell_type": "code",
   "execution_count": 126,
   "id": "fc3fa260",
   "metadata": {},
   "outputs": [
    {
     "name": "stdout",
     "output_type": "stream",
     "text": [
      "(True, False, 50, 'Python', [1, 2, 3], (10+20j), 2.2) <class 'tuple'>\n"
     ]
    }
   ],
   "source": [
    "t=(True, False, 50, 'Python', [1,2,3], 10+20j, 2.2)\n",
    "print(t,type(t))"
   ]
  },
  {
   "cell_type": "code",
   "execution_count": 131,
   "id": "399c0033",
   "metadata": {},
   "outputs": [
    {
     "name": "stdout",
     "output_type": "stream",
     "text": [
      "True\n"
     ]
    },
    {
     "ename": "TypeError",
     "evalue": "'tuple' object does not support item assignment",
     "output_type": "error",
     "traceback": [
      "\u001b[1;31m---------------------------------------------------------------------------\u001b[0m",
      "\u001b[1;31mTypeError\u001b[0m                                 Traceback (most recent call last)",
      "\u001b[1;32m~\\AppData\\Local\\Temp\\ipykernel_27480\\1834506151.py\u001b[0m in \u001b[0;36m<module>\u001b[1;34m\u001b[0m\n\u001b[0;32m      1\u001b[0m \u001b[0mprint\u001b[0m\u001b[1;33m(\u001b[0m\u001b[0mt\u001b[0m\u001b[1;33m[\u001b[0m\u001b[1;36m0\u001b[0m\u001b[1;33m]\u001b[0m\u001b[1;33m)\u001b[0m\u001b[1;33m\u001b[0m\u001b[1;33m\u001b[0m\u001b[0m\n\u001b[0;32m      2\u001b[0m \u001b[1;33m\u001b[0m\u001b[0m\n\u001b[1;32m----> 3\u001b[1;33m \u001b[0mt\u001b[0m\u001b[1;33m[\u001b[0m\u001b[1;36m0\u001b[0m\u001b[1;33m]\u001b[0m\u001b[1;33m=\u001b[0m\u001b[1;36m5000\u001b[0m\u001b[1;33m\u001b[0m\u001b[1;33m\u001b[0m\u001b[0m\n\u001b[0m",
      "\u001b[1;31mTypeError\u001b[0m: 'tuple' object does not support item assignment"
     ]
    }
   ],
   "source": [
    "print(t[0])\n",
    "\n",
    "t[0]=5000"
   ]
  },
  {
   "cell_type": "code",
   "execution_count": 132,
   "id": "7af52cd0",
   "metadata": {},
   "outputs": [],
   "source": [
    "# Data Analyst\n",
    "# Data Scientist\n",
    "# Business Analyst"
   ]
  },
  {
   "cell_type": "code",
   "execution_count": null,
   "id": "a2f5e35d",
   "metadata": {},
   "outputs": [],
   "source": [
    "# Descriptive Analysis- What has happened over a period of time- Data Analyst\n",
    "\n",
    "# Prescriptive Analysis- Knowing the cause of the problem and giving the solution- Business Analyst\n",
    "\n",
    "# Predictive Analysis- What may happen in future on the baisis of the given parameters- Data Scientist (Machine Learning)"
   ]
  }
 ],
 "metadata": {
  "kernelspec": {
   "display_name": "Python 3 (ipykernel)",
   "language": "python",
   "name": "python3"
  },
  "language_info": {
   "codemirror_mode": {
    "name": "ipython",
    "version": 3
   },
   "file_extension": ".py",
   "mimetype": "text/x-python",
   "name": "python",
   "nbconvert_exporter": "python",
   "pygments_lexer": "ipython3",
   "version": "3.9.13"
  }
 },
 "nbformat": 4,
 "nbformat_minor": 5
}
