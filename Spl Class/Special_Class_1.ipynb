{
 "cells": [
  {
   "cell_type": "code",
   "execution_count": 1,
   "id": "323c6a3b",
   "metadata": {},
   "outputs": [],
   "source": [
    "# Anaconda Distribution\n",
    "# What is Jupyter Notebook\n",
    "# An overview of Jupyter Notebook\n",
    "# What is an Operationg system\n",
    "# What is a programming language\n",
    "# High level and low level languages\n",
    "# Why Python?\n",
    "# How a Python program runs"
   ]
  },
  {
   "cell_type": "markdown",
   "id": "796b6b84",
   "metadata": {},
   "source": [
    "# Anaconda Distribution"
   ]
  },
  {
   "cell_type": "markdown",
   "id": "b2cfd080",
   "metadata": {},
   "source": [
    "- It is a package distribution platform for Python but it supports R as well."
   ]
  },
  {
   "cell_type": "code",
   "execution_count": 2,
   "id": "18058a3b",
   "metadata": {},
   "outputs": [],
   "source": [
    "# Data Siciene / Analysis"
   ]
  },
  {
   "cell_type": "code",
   "execution_count": 3,
   "id": "8d99dce7",
   "metadata": {},
   "outputs": [],
   "source": [
    "# Python- Core Python\n",
    "\n",
    "# Numpy- Advanced numerical computation\n",
    "# Pandas- Data manipulation\n",
    "# Matplotlib- Visualisation\n",
    "# Seaborn- Visualisation\n",
    "# Sklearn- Modelling\n",
    "# Scipy- Satatistical analysis"
   ]
  },
  {
   "cell_type": "markdown",
   "id": "b1c8481f",
   "metadata": {},
   "source": [
    "# What is Jupyter Notebook"
   ]
  },
  {
   "cell_type": "markdown",
   "id": "0bade3aa",
   "metadata": {},
   "source": [
    "- It is a browser based IDE"
   ]
  },
  {
   "cell_type": "code",
   "execution_count": 4,
   "id": "5caadf0e",
   "metadata": {},
   "outputs": [],
   "source": [
    "# IDE- Integrated Development Environment"
   ]
  },
  {
   "cell_type": "code",
   "execution_count": 5,
   "id": "df7ce90a",
   "metadata": {},
   "outputs": [],
   "source": [
    "# An IDE is an itnterface (medium) between the user and the system"
   ]
  },
  {
   "cell_type": "code",
   "execution_count": 6,
   "id": "181a5267",
   "metadata": {},
   "outputs": [
    {
     "name": "stdout",
     "output_type": "stream",
     "text": [
      "30\n"
     ]
    }
   ],
   "source": [
    "a=10\n",
    "b=20\n",
    "c=a+b\n",
    "print(c)"
   ]
  },
  {
   "cell_type": "code",
   "execution_count": 7,
   "id": "07573e1a",
   "metadata": {},
   "outputs": [],
   "source": [
    "# IDE- Jupyter Notebook, Pycharm, VSCode, Jupyter Lab, Command prompt"
   ]
  },
  {
   "cell_type": "markdown",
   "id": "432a662b",
   "metadata": {},
   "source": [
    "# An overview of Jupyter Notebook"
   ]
  },
  {
   "cell_type": "code",
   "execution_count": 20,
   "id": "66ec0b50",
   "metadata": {},
   "outputs": [],
   "source": [
    "# import numpy as np\n",
    "# import pandas as pd\n",
    "# import seaborn as sns\n",
    "# import matplotlib.pyplot as plt"
   ]
  },
  {
   "cell_type": "markdown",
   "id": "4c1b8330",
   "metadata": {},
   "source": [
    "- Jupyter notebook supports cell wise operations that makes it useful for data analysis purpose.\n",
    "- In Jupyter notebook we write the code in cels"
   ]
  },
  {
   "cell_type": "markdown",
   "id": "7c33f50a",
   "metadata": {},
   "source": [
    "# Every cell has two modes"
   ]
  },
  {
   "cell_type": "markdown",
   "id": "93d5a7f9",
   "metadata": {},
   "source": [
    "- 1- Select mode\n",
    "- 2- Edit mode"
   ]
  },
  {
   "cell_type": "markdown",
   "id": "aa00d3d9",
   "metadata": {},
   "source": [
    "# Select mode"
   ]
  },
  {
   "cell_type": "markdown",
   "id": "22dc2246",
   "metadata": {},
   "source": [
    "- In select mode we can select multiple cells and can do many other operations.\n",
    "- In select mode we can not write into the cell.\n",
    "- The select mode is represented by blue colour"
   ]
  },
  {
   "cell_type": "markdown",
   "id": "df1e9b2d",
   "metadata": {},
   "source": [
    "# Edit mode"
   ]
  },
  {
   "cell_type": "markdown",
   "id": "962d523a",
   "metadata": {},
   "source": [
    "- In edit mode we can write into the cell.\n",
    "- Edit mode is represented by green colour.\n",
    "- To convert the cell from edit mode to select mode press esc key.\n",
    "- To convert the cell from select mode to edit mode press enter key or click on the cell."
   ]
  },
  {
   "cell_type": "code",
   "execution_count": 24,
   "id": "e1a8a48a",
   "metadata": {},
   "outputs": [
    {
     "name": "stdout",
     "output_type": "stream",
     "text": [
      "10\n"
     ]
    }
   ],
   "source": [
    "a=10\n",
    "b=20\n",
    "c=b-a\n",
    "print(c)"
   ]
  },
  {
   "cell_type": "code",
   "execution_count": null,
   "id": "f3fdd770",
   "metadata": {},
   "outputs": [],
   "source": []
  },
  {
   "cell_type": "code",
   "execution_count": 32,
   "id": "0e6fd6d2",
   "metadata": {},
   "outputs": [
    {
     "name": "stdout",
     "output_type": "stream",
     "text": [
      "Python\n"
     ]
    }
   ],
   "source": [
    "print('Python')"
   ]
  },
  {
   "cell_type": "code",
   "execution_count": null,
   "id": "bb67dbb8",
   "metadata": {},
   "outputs": [],
   "source": []
  },
  {
   "cell_type": "code",
   "execution_count": 23,
   "id": "dcbe51b3",
   "metadata": {},
   "outputs": [
    {
     "name": "stdout",
     "output_type": "stream",
     "text": [
      "30\n"
     ]
    }
   ],
   "source": [
    "a=10\n",
    "b=20\n",
    "c=a+b\n",
    "print(c)"
   ]
  },
  {
   "cell_type": "markdown",
   "id": "ebae6d29",
   "metadata": {},
   "source": [
    "# Cell mode vs Markdown mode"
   ]
  },
  {
   "cell_type": "markdown",
   "id": "fad7f940",
   "metadata": {},
   "source": [
    "# Cell mode"
   ]
  },
  {
   "cell_type": "markdown",
   "id": "6bcc12fb",
   "metadata": {},
   "source": [
    "- In the cell mode we write the Python code.\n",
    "- If we write anything else apart from the Python code then it will throw an error"
   ]
  },
  {
   "cell_type": "code",
   "execution_count": 26,
   "id": "23d7957e",
   "metadata": {},
   "outputs": [
    {
     "ename": "NameError",
     "evalue": "name 'avcdvadvfhadgy' is not defined",
     "output_type": "error",
     "traceback": [
      "\u001b[1;31m---------------------------------------------------------------------------\u001b[0m",
      "\u001b[1;31mNameError\u001b[0m                                 Traceback (most recent call last)",
      "\u001b[1;32m~\\AppData\\Local\\Temp\\ipykernel_27040\\3824225633.py\u001b[0m in \u001b[0;36m<module>\u001b[1;34m\u001b[0m\n\u001b[1;32m----> 1\u001b[1;33m \u001b[0mavcdvadvfhadgy\u001b[0m\u001b[1;33m\u001b[0m\u001b[1;33m\u001b[0m\u001b[0m\n\u001b[0m",
      "\u001b[1;31mNameError\u001b[0m: name 'avcdvadvfhadgy' is not defined"
     ]
    }
   ],
   "source": [
    "avcdvadvfhadgy"
   ]
  },
  {
   "cell_type": "code",
   "execution_count": 25,
   "id": "2236439d",
   "metadata": {},
   "outputs": [
    {
     "name": "stdout",
     "output_type": "stream",
     "text": [
      "Hello\n"
     ]
    }
   ],
   "source": [
    "print('Hello')"
   ]
  },
  {
   "cell_type": "code",
   "execution_count": 31,
   "id": "06453cd3",
   "metadata": {},
   "outputs": [
    {
     "name": "stdout",
     "output_type": "stream",
     "text": [
      "15\n"
     ]
    }
   ],
   "source": [
    "print(10+5)"
   ]
  },
  {
   "cell_type": "markdown",
   "id": "f448bd15",
   "metadata": {},
   "source": [
    "# Markdown mode"
   ]
  },
  {
   "cell_type": "markdown",
   "id": "46841b7b",
   "metadata": {},
   "source": [
    "- In markdown mode we write simple text."
   ]
  },
  {
   "cell_type": "markdown",
   "id": "656a49c2",
   "metadata": {},
   "source": [
    "# More about the markdown mode"
   ]
  },
  {
   "cell_type": "markdown",
   "id": "8fd2bf4f",
   "metadata": {},
   "source": [
    "# Heading"
   ]
  },
  {
   "cell_type": "markdown",
   "id": "7aaf59d4",
   "metadata": {},
   "source": [
    "## Subheading"
   ]
  },
  {
   "cell_type": "markdown",
   "id": "7954f697",
   "metadata": {},
   "source": [
    "### Subheading"
   ]
  },
  {
   "cell_type": "markdown",
   "id": "f8b83b49",
   "metadata": {},
   "source": [
    "#### Subheading"
   ]
  },
  {
   "cell_type": "markdown",
   "id": "0dd66349",
   "metadata": {},
   "source": [
    "- Bullet point"
   ]
  },
  {
   "cell_type": "markdown",
   "id": "94a5fa67",
   "metadata": {},
   "source": [
    "* Bullet point"
   ]
  },
  {
   "cell_type": "markdown",
   "id": "3730608f",
   "metadata": {},
   "source": [
    "**Bold**"
   ]
  },
  {
   "cell_type": "markdown",
   "id": "c55f958e",
   "metadata": {},
   "source": [
    "#### Bold"
   ]
  },
  {
   "cell_type": "markdown",
   "id": "ff30b168",
   "metadata": {},
   "source": [
    "*Italic*"
   ]
  },
  {
   "cell_type": "markdown",
   "id": "51258cf6",
   "metadata": {},
   "source": [
    "##### Bold and Italic"
   ]
  },
  {
   "cell_type": "markdown",
   "id": "3a8137b9",
   "metadata": {},
   "source": [
    "# Short cut keys"
   ]
  },
  {
   "cell_type": "code",
   "execution_count": null,
   "id": "0c4dd47f",
   "metadata": {},
   "outputs": [],
   "source": []
  },
  {
   "cell_type": "code",
   "execution_count": 29,
   "id": "fb2f8f62",
   "metadata": {},
   "outputs": [],
   "source": [
    "# To run a cell- shift+enter\n",
    "# To add a cell above a particulr cell- press a in select mode\n",
    "# To add a cell below a particular cell- press b in select mode\n",
    "# To convert the mode from code to markdown- Press m in select mode\n",
    "# To convert the mode from markdown to code- Press y in select mode\n",
    "# To delete a cell- Press x in select mode"
   ]
  },
  {
   "cell_type": "code",
   "execution_count": 30,
   "id": "906fc8fd",
   "metadata": {},
   "outputs": [
    {
     "name": "stdout",
     "output_type": "stream",
     "text": [
      "Hello\n"
     ]
    }
   ],
   "source": [
    "print('Hello')"
   ]
  },
  {
   "cell_type": "markdown",
   "id": "c7fa1ec6",
   "metadata": {},
   "source": [
    "This is simple text"
   ]
  },
  {
   "cell_type": "code",
   "execution_count": 36,
   "id": "9b9e46ee",
   "metadata": {},
   "outputs": [
    {
     "name": "stdout",
     "output_type": "stream",
     "text": [
      "30\n"
     ]
    }
   ],
   "source": [
    "a=10\n",
    "b=20\n",
    "c=a+b\n",
    "print(c)"
   ]
  },
  {
   "cell_type": "markdown",
   "id": "1a0f37d9",
   "metadata": {},
   "source": [
    "# What is an operating system"
   ]
  },
  {
   "cell_type": "markdown",
   "id": "c44c2161",
   "metadata": {},
   "source": [
    "- It is an interface between the user and the hardware.\n",
    "- It is a resource manager"
   ]
  },
  {
   "cell_type": "code",
   "execution_count": 37,
   "id": "02e50351",
   "metadata": {},
   "outputs": [],
   "source": [
    "# Resources- I/O devices, CPU, Memory, Network Devices"
   ]
  },
  {
   "cell_type": "code",
   "execution_count": 38,
   "id": "525c058f",
   "metadata": {},
   "outputs": [],
   "source": [
    "# OS- Windows, macOS, Linux, Android, Unix, Ubuntu etc."
   ]
  },
  {
   "cell_type": "markdown",
   "id": "e8eeb009",
   "metadata": {},
   "source": [
    "# Programming language or Computer language"
   ]
  },
  {
   "cell_type": "markdown",
   "id": "dc03f29a",
   "metadata": {},
   "source": [
    "- A computer language is a set of some predefined words and chracters that are used according to some rules and these rules are known as syntax."
   ]
  },
  {
   "cell_type": "code",
   "execution_count": 39,
   "id": "fd4ab373",
   "metadata": {},
   "outputs": [],
   "source": [
    "# alphabet + grammar\n",
    "# character set + syntax"
   ]
  },
  {
   "cell_type": "markdown",
   "id": "0aa37ef6",
   "metadata": {},
   "source": [
    "# Types of computer languages"
   ]
  },
  {
   "cell_type": "markdown",
   "id": "45cceaa4",
   "metadata": {},
   "source": [
    "- 1- High level language\n",
    "- 2- Low level language"
   ]
  },
  {
   "cell_type": "markdown",
   "id": "bb340b2f",
   "metadata": {},
   "source": [
    "# High level language"
   ]
  },
  {
   "cell_type": "markdown",
   "id": "5349bd1b",
   "metadata": {},
   "source": [
    "- A HLL is user friendly.\n",
    "- It is easy to learn and understand.\n",
    "- The code in a HLL is written in simple language like English\n",
    "- **Examples-** Python, C, C++, Java, Ruby, R"
   ]
  },
  {
   "cell_type": "markdown",
   "id": "836faef3",
   "metadata": {},
   "source": [
    "# Low level language"
   ]
  },
  {
   "cell_type": "markdown",
   "id": "15971d10",
   "metadata": {},
   "source": [
    "- It is machine friendly.\n",
    "- Machine language is low level languae.\n",
    "- In machine language the code is written in binary digits (0,1) so it is also called binary language.\n",
    "- Binary digits are just signals.\n",
    "- **Example-** Machine language"
   ]
  },
  {
   "cell_type": "markdown",
   "id": "0b0ebb54",
   "metadata": {},
   "source": [
    "# Translator"
   ]
  },
  {
   "cell_type": "markdown",
   "id": "17d5f216",
   "metadata": {},
   "source": [
    "- It is a software that converts the Hight level language code into Low level language and vice versa"
   ]
  },
  {
   "cell_type": "markdown",
   "id": "ddcf3105",
   "metadata": {},
   "source": [
    "# Types"
   ]
  },
  {
   "cell_type": "markdown",
   "id": "3cab069e",
   "metadata": {},
   "source": [
    "- Compiler\n",
    "- Interpreter"
   ]
  },
  {
   "cell_type": "code",
   "execution_count": null,
   "id": "7a2d86c3",
   "metadata": {},
   "outputs": [],
   "source": []
  }
 ],
 "metadata": {
  "kernelspec": {
   "display_name": "Python 3 (ipykernel)",
   "language": "python",
   "name": "python3"
  },
  "language_info": {
   "codemirror_mode": {
    "name": "ipython",
    "version": 3
   },
   "file_extension": ".py",
   "mimetype": "text/x-python",
   "name": "python",
   "nbconvert_exporter": "python",
   "pygments_lexer": "ipython3",
   "version": "3.9.13"
  }
 },
 "nbformat": 4,
 "nbformat_minor": 5
}
